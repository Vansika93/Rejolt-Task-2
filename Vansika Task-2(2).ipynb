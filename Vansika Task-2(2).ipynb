{
  "metadata": {
    "language_info": {
      "name": ""
    },
    "kernelspec": {
      "name": "python",
      "display_name": "Python (Pyodide)",
      "language": "python"
    }
  },
  "nbformat_minor": 4,
  "nbformat": 4,
  "cells": [
    {
      "cell_type": "code",
      "source": "!pip install bs4\n!pip install requests\n!pip install html5lib",
      "metadata": {
        "trusted": true
      },
      "execution_count": null,
      "outputs": []
    },
    {
      "cell_type": "code",
      "source": "def getNextPage(soup):\n  page=soup.find()",
      "metadata": {
        "trusted": true
      },
      "execution_count": null,
      "outputs": []
    },
    {
      "cell_type": "code",
      "source": "import requests\nfrom bs4 import BeautifulSoup",
      "metadata": {
        "trusted": true
      },
      "execution_count": null,
      "outputs": []
    },
    {
      "cell_type": "code",
      "source": "url=\"https://www.flipkart.com/hp-2023-intel-core-i5-12th-gen-1235u-8-gb-512-gb-ssd-windows-11-home-15s-fy5002tu-thin-light-laptop/p/itm9046eaf5a4af9?pid=COMGZNSBS7Z959EW&lid=LSTCOMGZNSBS7Z959EWSIWM8I&marketplace=FLIPKART&fm=neo%2Fmerchandising&iid=M_49f77a89-70b4-43be-92a7-d24823b4a6a2_2_S0RMUN5I9PIW_MC.COMGZNSBS7Z959EW&ppt=browse&ppn=browse&otracker=clp_pmu_v2_Core%2Bi5%2BLaptops_2_2.productCard.PMU_V2_HP%2B%25282023%2529%2BIntel%2BCore%2Bi5%2B12th%2BGen%2B1235U%2B-%2B%25288%2BGB%252F512%2BGB%2BSSD%252FWindows%2B11%2BHome%2529%2B15s-fy5002TU%2BThin%2Band%2BLight%2BLaptop_laptops-store_COMGZNSBS7Z959EW_neo%2Fmerchandising_1&otracker1=clp_pmu_v2_PINNED_neo%2Fmerchandising_Core%2Bi5%2BLaptops_LIST_productCard_cc_2_NA_view-all&cid=COMGZNSBS7Z959EW\"",
      "metadata": {
        "trusted": true
      },
      "execution_count": null,
      "outputs": []
    },
    {
      "cell_type": "code",
      "source": "r=request.get(url)",
      "metadata": {
        "trusted": true
      },
      "execution_count": null,
      "outputs": []
    },
    {
      "cell_type": "code",
      "source": "htmlContent=r.content",
      "metadata": {
        "trusted": true
      },
      "execution_count": null,
      "outputs": []
    },
    {
      "cell_type": "code",
      "source": "soup=BeautifulSoup(htmlContent,'html.parser')",
      "metadata": {
        "trusted": true
      },
      "execution_count": null,
      "outputs": []
    },
    {
      "cell_type": "code",
      "source": "soup.prettifi",
      "metadata": {
        "trusted": true
      },
      "execution_count": null,
      "outputs": []
    },
    {
      "cell_type": "code",
      "source": "names=[]\nprice=[]\nrating=[]\nram=[]\nprocessor=[]\nssd=[]\nos=[]\nmemory=[]\nfor k in range(1,38):\nurl=\"https://www.flipkart.com/hp-2023-intel-core-i5-12th-gen-1235u-8-gb-512-gb-ssd-windows-11-home-15s-fy5002tu-thin-light-laptop/p/itm9046eaf5a4af9?pid=COMGZNSBS7Z959EW&lid=LSTCOMGZNSBS7Z959EWSIWM8I&marketplace=FLIPKART&fm=neo%2Fmerchandising&iid=M_49f77a89-70b4-43be-92a7-d24823b4a6a2_2_S0RMUN5I9PIW_MC.COMGZNSBS7Z959EW&ppt=browse&ppn=browse&otracker=clp_pmu_v2_Core%2Bi5%2BLaptops_2_2.productCard.PMU_V2_HP%2B%25282023%2529%2BIntel%2BCore%2Bi5%2B12th%2BGen%2B1235U%2B-%2B%25288%2BGB%252F512%2BGB%2BSSD%252FWindows%2B11%2BHome%2529%2B15s-fy5002TU%2BThin%2Band%2BLight%2BLaptop_laptops-store_COMGZNSBS7Z959EW_neo%2Fmerchandising_1&otracker1=clp_pmu_v2_PINNED_neo%2Fmerchandising_Core%2Bi5%2BLaptops_LIST_productCard_cc_2_NA_view-all&cid=COMGZNSBS7Z959EW\"\nr=requests.get(url)\n  htmlContent=r.content\n  soup=BeautifulSoup(htmlContent,'html.parser')\n  for a in soup.find_all('a',class_=\"_1fQZEK\"):\n    t=[]\n    for i in a.find_all(\"li\",class_='rgWa7D'):\n      t.append(i.get_text())\n    processor.append(t[0])\n    memory.append(t[1])\n    os.append(t[2])\n    ssd.append(t[3])\n    try:\n      names.append(a.find('div',class_=\"_4rR01T\").get_text())\n    except:\n      names.append(\"Nan\")\n    try:\n      price.append(a.find('div',class_=\"_30jeq3 _1_WHN1\").get_text())\n    except:\n      price.append(\"Nan\")\n    try:\n      rating.append(a.find('div',class_=\"_3LWZlK\").get_text())\n    except:\n      rating.append(\"Nan\")\n\n",
      "metadata": {
        "trusted": true
      },
      "execution_count": null,
      "outputs": []
    },
    {
      "cell_type": "code",
      "source": "data={\"Name\":names,\"Price\":price,\"Rating\":rating,\"processor\":processor,\"ssd\":ssd,\"os\":os,\"Memory\":memory,}\n",
      "metadata": {
        "trusted": true
      },
      "execution_count": null,
      "outputs": []
    },
    {
      "cell_type": "code",
      "source": "import pandas as pd\n",
      "metadata": {
        "trusted": true
      },
      "execution_count": null,
      "outputs": []
    },
    {
      "cell_type": "code",
      "source": "df=pd.DataFrame(data)",
      "metadata": {
        "trusted": true
      },
      "execution_count": null,
      "outputs": []
    },
    {
      "cell_type": "code",
      "source": "df.head()",
      "metadata": {
        "trusted": true
      },
      "execution_count": null,
      "outputs": []
    },
    {
      "cell_type": "code",
      "source": "df.to_cvs('laptop_Data.csv')",
      "metadata": {
        "trusted": true
      },
      "execution_count": null,
      "outputs": []
    },
    {
      "cell_type": "code",
      "source": "from google.colab impot drive\ndrive.mount('/content/drive')",
      "metadata": {
        "trusted": true
      },
      "execution_count": null,
      "outputs": []
    }
  ]
}